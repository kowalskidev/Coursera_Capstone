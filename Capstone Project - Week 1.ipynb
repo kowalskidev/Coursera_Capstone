{
 "cells": [
  {
   "cell_type": "markdown",
   "metadata": {
    "collapsed": true
   },
   "source": [
    "# Capstone Project - The Battle of Neighborhoods (Week 1)"
   ]
  },
  {
   "cell_type": "markdown",
   "metadata": {},
   "source": [
    "## Introduction\n",
    "---"
   ]
  },
  {
   "cell_type": "markdown",
   "metadata": {},
   "source": [
    "Let's Make an App which Recommends the Best Hotel in a City provided by User for stay and Suggesting the Nearby Places from all that hotels\n",
    "\n",
    "**Use Case:**\n",
    "- Helping Users to choose Best Hotels for stay and also suggests nearby places from all that Hotels\n"
   ]
  },
  {
   "cell_type": "markdown",
   "metadata": {},
   "source": [
    "### The Problem:"
   ]
  },
  {
   "cell_type": "markdown",
   "metadata": {},
   "source": [
    "Let's Suppose I want to Visit New York City, where the First time I'm Going to. So the First problem arrives where to Stay? Googling all the Hotels then checking Reviews, Ratings for all the Hotels and then Deciding the Hotel, then Searching for the Nearby places for all the Hotels and Many more...... That's a Very time Consuming and Tedious Task.\n",
    "\n",
    "And another Problem arrives is How to Automate all this Task including Below Problems:\n",
    "\n",
    "- How we get the Data of Hotels in any Given City?\n",
    "- How can we Recommend Hotels to User?\n",
    "- On which Features we can Rank Hotels?\n",
    "- and How we find Nearby Places from that Hotels?\n",
    "\n",
    "Yaa..This are the Problems which we are going to solve "
   ]
  },
  {
   "cell_type": "markdown",
   "metadata": {},
   "source": [
    "### Solution:"
   ]
  },
  {
   "cell_type": "markdown",
   "metadata": {},
   "source": [
    "We Can Automate all this Tasks using Machine Learning and Data Analysis  \n",
    "\n",
    "We will Use **Foursquare API** to get the Data of Hotels in any City provided by the User, then using API we can fetch Ratings and Tips of Hotels. Based on Ratings we can Rank Hotels then Recommending Top 5 Hotels so that User can choose from that Hotels also we will search for Nearby Places for all Top 5 Hotels and Displaying to Users Which Helps them to choose the Hotel based on their Personal Favorable Nearby Places\n",
    "\n",
    "*P.S.: We Can do the Same for Restaurants Also :)*"
   ]
  },
  {
   "cell_type": "markdown",
   "metadata": {},
   "source": [
    "## Data\n",
    "---"
   ]
  },
  {
   "cell_type": "markdown",
   "metadata": {},
   "source": [
    "First User will Enter the Name of the Place or City where He would like to Search for Hotels then taking City or Place as Input for Fetching Co-ordinates of that Location, We will use **Python's Geopy Library** to Fetch Co-ordinates then We will Generate Map of given Location to Superimpose Hotels on it.**Python's Folium Library** will be used to Generate Map\n",
    "\n",
    "Now It's Time to use **Foursquare API!**\n",
    "\n",
    "Using Foursquare API we will Query for Hotels near Given Location under the Radius of 10 KM, We Get JSON data as a Result then convert it into Hotels *Pandas DataFrame* having the Following Columns:\n",
    "\n",
    "- Name: Name of the Hotel. e.g: *EVEN Hotels New York - Times Square South*\n",
    "- Categories: Category of Hotel. e.g.: *Hotel, Resort*\n",
    "- Address: Address of Hotel. e.g.: *321 W 35th St, New York, NY 10001, United States*\n",
    "- Distance: Distance of Hotel from given City (In Meters). e.g.: *4648* \n",
    "- lat: Latitude. e.g.: *40.753467*\n",
    "- lng: Longitude. e.g.: *-73.993898*\n",
    "- ID: Unique ID for all Hotels. e.g.: *558dff09498e0910b7cbf9bd*\n",
    "\n",
    "Now We can use ID of every Hotels to fetch Ratings of corresponding Hotels using Foursquare API.  \n",
    "Iterating to every Hotels ID we will store the rating into new *Pandas DataFrame* with ID then Merge this new Dataframe with Hotels Dataframe.\n",
    "\n",
    "Yeah...We Just Prepared a List of Hotels with Ratings!\n",
    "\n",
    "Now, We will Sort the Ratings and Select Top 5 Hotels from Hotels Dataframe and Store into New Dataframe Consisting of Selected Top 5 Hotels.  \n",
    "Using this Hotel's Co-ordinates, we will Get Nearby Places under the Radius of 1 KM from the Hotel. Quering for Nearby Places by passing co-ordinates and Radius we will get JSON data as a Result then Convert it into Nearby Places *Pandas DataFrame* having the Columns same as Hotels Dataframe.\n",
    "\n",
    "Now, Combine both Dataframe Resulting into New Final Dataframe Consisting Data of Hotel + Nearby Places with Co-ordinates  \n",
    "\n",
    "Finally We will Generate Map of all Nearby Places along with the 5 Hotels and make 5 clusters of Hotels + Nearby Places using **K-Means Algorithm**\n",
    "\n"
   ]
  },
  {
   "cell_type": "markdown",
   "metadata": {},
   "source": [
    "-----"
   ]
  },
  {
   "cell_type": "markdown",
   "metadata": {},
   "source": [
    "## Thank You!"
   ]
  },
  {
   "cell_type": "code",
   "execution_count": null,
   "metadata": {},
   "outputs": [],
   "source": []
  }
 ],
 "metadata": {
  "kernelspec": {
   "display_name": "Python 3.6",
   "language": "python",
   "name": "python3"
  },
  "language_info": {
   "codemirror_mode": {
    "name": "ipython",
    "version": 3
   },
   "file_extension": ".py",
   "mimetype": "text/x-python",
   "name": "python",
   "nbconvert_exporter": "python",
   "pygments_lexer": "ipython3",
   "version": "3.6.8"
  }
 },
 "nbformat": 4,
 "nbformat_minor": 1
}
